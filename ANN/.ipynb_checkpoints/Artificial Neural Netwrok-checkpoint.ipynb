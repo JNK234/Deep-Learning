{
 "cells": [
  {
   "cell_type": "code",
   "execution_count": 58,
   "metadata": {},
   "outputs": [],
   "source": [
    "import numpy as np\n",
    "import matplotlib.pyplot as plt\n",
    "import pandas as pd"
   ]
  },
  {
   "cell_type": "code",
   "execution_count": 59,
   "metadata": {},
   "outputs": [],
   "source": [
    "data = pd.read_csv('DATA /Churn_Modelling.csv')"
   ]
  },
  {
   "cell_type": "code",
   "execution_count": 60,
   "metadata": {},
   "outputs": [
    {
     "data": {
      "text/html": [
       "<div>\n",
       "<style scoped>\n",
       "    .dataframe tbody tr th:only-of-type {\n",
       "        vertical-align: middle;\n",
       "    }\n",
       "\n",
       "    .dataframe tbody tr th {\n",
       "        vertical-align: top;\n",
       "    }\n",
       "\n",
       "    .dataframe thead th {\n",
       "        text-align: right;\n",
       "    }\n",
       "</style>\n",
       "<table border=\"1\" class=\"dataframe\">\n",
       "  <thead>\n",
       "    <tr style=\"text-align: right;\">\n",
       "      <th></th>\n",
       "      <th>RowNumber</th>\n",
       "      <th>CustomerId</th>\n",
       "      <th>Surname</th>\n",
       "      <th>CreditScore</th>\n",
       "      <th>Geography</th>\n",
       "      <th>Gender</th>\n",
       "      <th>Age</th>\n",
       "      <th>Tenure</th>\n",
       "      <th>Balance</th>\n",
       "      <th>NumOfProducts</th>\n",
       "      <th>HasCrCard</th>\n",
       "      <th>IsActiveMember</th>\n",
       "      <th>EstimatedSalary</th>\n",
       "      <th>Exited</th>\n",
       "    </tr>\n",
       "  </thead>\n",
       "  <tbody>\n",
       "    <tr>\n",
       "      <th>0</th>\n",
       "      <td>1</td>\n",
       "      <td>15634602</td>\n",
       "      <td>Hargrave</td>\n",
       "      <td>619</td>\n",
       "      <td>France</td>\n",
       "      <td>Female</td>\n",
       "      <td>42</td>\n",
       "      <td>2</td>\n",
       "      <td>0.00</td>\n",
       "      <td>1</td>\n",
       "      <td>1</td>\n",
       "      <td>1</td>\n",
       "      <td>101348.88</td>\n",
       "      <td>1</td>\n",
       "    </tr>\n",
       "    <tr>\n",
       "      <th>1</th>\n",
       "      <td>2</td>\n",
       "      <td>15647311</td>\n",
       "      <td>Hill</td>\n",
       "      <td>608</td>\n",
       "      <td>Spain</td>\n",
       "      <td>Female</td>\n",
       "      <td>41</td>\n",
       "      <td>1</td>\n",
       "      <td>83807.86</td>\n",
       "      <td>1</td>\n",
       "      <td>0</td>\n",
       "      <td>1</td>\n",
       "      <td>112542.58</td>\n",
       "      <td>0</td>\n",
       "    </tr>\n",
       "    <tr>\n",
       "      <th>2</th>\n",
       "      <td>3</td>\n",
       "      <td>15619304</td>\n",
       "      <td>Onio</td>\n",
       "      <td>502</td>\n",
       "      <td>France</td>\n",
       "      <td>Female</td>\n",
       "      <td>42</td>\n",
       "      <td>8</td>\n",
       "      <td>159660.80</td>\n",
       "      <td>3</td>\n",
       "      <td>1</td>\n",
       "      <td>0</td>\n",
       "      <td>113931.57</td>\n",
       "      <td>1</td>\n",
       "    </tr>\n",
       "    <tr>\n",
       "      <th>3</th>\n",
       "      <td>4</td>\n",
       "      <td>15701354</td>\n",
       "      <td>Boni</td>\n",
       "      <td>699</td>\n",
       "      <td>France</td>\n",
       "      <td>Female</td>\n",
       "      <td>39</td>\n",
       "      <td>1</td>\n",
       "      <td>0.00</td>\n",
       "      <td>2</td>\n",
       "      <td>0</td>\n",
       "      <td>0</td>\n",
       "      <td>93826.63</td>\n",
       "      <td>0</td>\n",
       "    </tr>\n",
       "    <tr>\n",
       "      <th>4</th>\n",
       "      <td>5</td>\n",
       "      <td>15737888</td>\n",
       "      <td>Mitchell</td>\n",
       "      <td>850</td>\n",
       "      <td>Spain</td>\n",
       "      <td>Female</td>\n",
       "      <td>43</td>\n",
       "      <td>2</td>\n",
       "      <td>125510.82</td>\n",
       "      <td>1</td>\n",
       "      <td>1</td>\n",
       "      <td>1</td>\n",
       "      <td>79084.10</td>\n",
       "      <td>0</td>\n",
       "    </tr>\n",
       "    <tr>\n",
       "      <th>...</th>\n",
       "      <td>...</td>\n",
       "      <td>...</td>\n",
       "      <td>...</td>\n",
       "      <td>...</td>\n",
       "      <td>...</td>\n",
       "      <td>...</td>\n",
       "      <td>...</td>\n",
       "      <td>...</td>\n",
       "      <td>...</td>\n",
       "      <td>...</td>\n",
       "      <td>...</td>\n",
       "      <td>...</td>\n",
       "      <td>...</td>\n",
       "      <td>...</td>\n",
       "    </tr>\n",
       "    <tr>\n",
       "      <th>9995</th>\n",
       "      <td>9996</td>\n",
       "      <td>15606229</td>\n",
       "      <td>Obijiaku</td>\n",
       "      <td>771</td>\n",
       "      <td>France</td>\n",
       "      <td>Male</td>\n",
       "      <td>39</td>\n",
       "      <td>5</td>\n",
       "      <td>0.00</td>\n",
       "      <td>2</td>\n",
       "      <td>1</td>\n",
       "      <td>0</td>\n",
       "      <td>96270.64</td>\n",
       "      <td>0</td>\n",
       "    </tr>\n",
       "    <tr>\n",
       "      <th>9996</th>\n",
       "      <td>9997</td>\n",
       "      <td>15569892</td>\n",
       "      <td>Johnstone</td>\n",
       "      <td>516</td>\n",
       "      <td>France</td>\n",
       "      <td>Male</td>\n",
       "      <td>35</td>\n",
       "      <td>10</td>\n",
       "      <td>57369.61</td>\n",
       "      <td>1</td>\n",
       "      <td>1</td>\n",
       "      <td>1</td>\n",
       "      <td>101699.77</td>\n",
       "      <td>0</td>\n",
       "    </tr>\n",
       "    <tr>\n",
       "      <th>9997</th>\n",
       "      <td>9998</td>\n",
       "      <td>15584532</td>\n",
       "      <td>Liu</td>\n",
       "      <td>709</td>\n",
       "      <td>France</td>\n",
       "      <td>Female</td>\n",
       "      <td>36</td>\n",
       "      <td>7</td>\n",
       "      <td>0.00</td>\n",
       "      <td>1</td>\n",
       "      <td>0</td>\n",
       "      <td>1</td>\n",
       "      <td>42085.58</td>\n",
       "      <td>1</td>\n",
       "    </tr>\n",
       "    <tr>\n",
       "      <th>9998</th>\n",
       "      <td>9999</td>\n",
       "      <td>15682355</td>\n",
       "      <td>Sabbatini</td>\n",
       "      <td>772</td>\n",
       "      <td>Germany</td>\n",
       "      <td>Male</td>\n",
       "      <td>42</td>\n",
       "      <td>3</td>\n",
       "      <td>75075.31</td>\n",
       "      <td>2</td>\n",
       "      <td>1</td>\n",
       "      <td>0</td>\n",
       "      <td>92888.52</td>\n",
       "      <td>1</td>\n",
       "    </tr>\n",
       "    <tr>\n",
       "      <th>9999</th>\n",
       "      <td>10000</td>\n",
       "      <td>15628319</td>\n",
       "      <td>Walker</td>\n",
       "      <td>792</td>\n",
       "      <td>France</td>\n",
       "      <td>Female</td>\n",
       "      <td>28</td>\n",
       "      <td>4</td>\n",
       "      <td>130142.79</td>\n",
       "      <td>1</td>\n",
       "      <td>1</td>\n",
       "      <td>0</td>\n",
       "      <td>38190.78</td>\n",
       "      <td>0</td>\n",
       "    </tr>\n",
       "  </tbody>\n",
       "</table>\n",
       "<p>10000 rows × 14 columns</p>\n",
       "</div>"
      ],
      "text/plain": [
       "      RowNumber  CustomerId    Surname  CreditScore Geography  Gender  Age  \\\n",
       "0             1    15634602   Hargrave          619    France  Female   42   \n",
       "1             2    15647311       Hill          608     Spain  Female   41   \n",
       "2             3    15619304       Onio          502    France  Female   42   \n",
       "3             4    15701354       Boni          699    France  Female   39   \n",
       "4             5    15737888   Mitchell          850     Spain  Female   43   \n",
       "...         ...         ...        ...          ...       ...     ...  ...   \n",
       "9995       9996    15606229   Obijiaku          771    France    Male   39   \n",
       "9996       9997    15569892  Johnstone          516    France    Male   35   \n",
       "9997       9998    15584532        Liu          709    France  Female   36   \n",
       "9998       9999    15682355  Sabbatini          772   Germany    Male   42   \n",
       "9999      10000    15628319     Walker          792    France  Female   28   \n",
       "\n",
       "      Tenure    Balance  NumOfProducts  HasCrCard  IsActiveMember  \\\n",
       "0          2       0.00              1          1               1   \n",
       "1          1   83807.86              1          0               1   \n",
       "2          8  159660.80              3          1               0   \n",
       "3          1       0.00              2          0               0   \n",
       "4          2  125510.82              1          1               1   \n",
       "...      ...        ...            ...        ...             ...   \n",
       "9995       5       0.00              2          1               0   \n",
       "9996      10   57369.61              1          1               1   \n",
       "9997       7       0.00              1          0               1   \n",
       "9998       3   75075.31              2          1               0   \n",
       "9999       4  130142.79              1          1               0   \n",
       "\n",
       "      EstimatedSalary  Exited  \n",
       "0           101348.88       1  \n",
       "1           112542.58       0  \n",
       "2           113931.57       1  \n",
       "3            93826.63       0  \n",
       "4            79084.10       0  \n",
       "...               ...     ...  \n",
       "9995         96270.64       0  \n",
       "9996        101699.77       0  \n",
       "9997         42085.58       1  \n",
       "9998         92888.52       1  \n",
       "9999         38190.78       0  \n",
       "\n",
       "[10000 rows x 14 columns]"
      ]
     },
     "execution_count": 60,
     "metadata": {},
     "output_type": "execute_result"
    }
   ],
   "source": [
    "data"
   ]
  },
  {
   "cell_type": "markdown",
   "metadata": {},
   "source": [
    "## Data Preprocessing"
   ]
  },
  {
   "cell_type": "code",
   "execution_count": 61,
   "metadata": {},
   "outputs": [
    {
     "data": {
      "text/html": [
       "<div>\n",
       "<style scoped>\n",
       "    .dataframe tbody tr th:only-of-type {\n",
       "        vertical-align: middle;\n",
       "    }\n",
       "\n",
       "    .dataframe tbody tr th {\n",
       "        vertical-align: top;\n",
       "    }\n",
       "\n",
       "    .dataframe thead th {\n",
       "        text-align: right;\n",
       "    }\n",
       "</style>\n",
       "<table border=\"1\" class=\"dataframe\">\n",
       "  <thead>\n",
       "    <tr style=\"text-align: right;\">\n",
       "      <th></th>\n",
       "      <th>RowNumber</th>\n",
       "      <th>CustomerId</th>\n",
       "      <th>Surname</th>\n",
       "      <th>CreditScore</th>\n",
       "      <th>Geography</th>\n",
       "      <th>Gender</th>\n",
       "      <th>Age</th>\n",
       "      <th>Tenure</th>\n",
       "      <th>Balance</th>\n",
       "      <th>NumOfProducts</th>\n",
       "      <th>HasCrCard</th>\n",
       "      <th>IsActiveMember</th>\n",
       "      <th>EstimatedSalary</th>\n",
       "      <th>Exited</th>\n",
       "    </tr>\n",
       "  </thead>\n",
       "  <tbody>\n",
       "    <tr>\n",
       "      <th>0</th>\n",
       "      <td>1</td>\n",
       "      <td>15634602</td>\n",
       "      <td>Hargrave</td>\n",
       "      <td>619</td>\n",
       "      <td>France</td>\n",
       "      <td>Female</td>\n",
       "      <td>42</td>\n",
       "      <td>2</td>\n",
       "      <td>0.00</td>\n",
       "      <td>1</td>\n",
       "      <td>1</td>\n",
       "      <td>1</td>\n",
       "      <td>101348.88</td>\n",
       "      <td>1</td>\n",
       "    </tr>\n",
       "    <tr>\n",
       "      <th>1</th>\n",
       "      <td>2</td>\n",
       "      <td>15647311</td>\n",
       "      <td>Hill</td>\n",
       "      <td>608</td>\n",
       "      <td>Spain</td>\n",
       "      <td>Female</td>\n",
       "      <td>41</td>\n",
       "      <td>1</td>\n",
       "      <td>83807.86</td>\n",
       "      <td>1</td>\n",
       "      <td>0</td>\n",
       "      <td>1</td>\n",
       "      <td>112542.58</td>\n",
       "      <td>0</td>\n",
       "    </tr>\n",
       "    <tr>\n",
       "      <th>2</th>\n",
       "      <td>3</td>\n",
       "      <td>15619304</td>\n",
       "      <td>Onio</td>\n",
       "      <td>502</td>\n",
       "      <td>France</td>\n",
       "      <td>Female</td>\n",
       "      <td>42</td>\n",
       "      <td>8</td>\n",
       "      <td>159660.80</td>\n",
       "      <td>3</td>\n",
       "      <td>1</td>\n",
       "      <td>0</td>\n",
       "      <td>113931.57</td>\n",
       "      <td>1</td>\n",
       "    </tr>\n",
       "    <tr>\n",
       "      <th>3</th>\n",
       "      <td>4</td>\n",
       "      <td>15701354</td>\n",
       "      <td>Boni</td>\n",
       "      <td>699</td>\n",
       "      <td>France</td>\n",
       "      <td>Female</td>\n",
       "      <td>39</td>\n",
       "      <td>1</td>\n",
       "      <td>0.00</td>\n",
       "      <td>2</td>\n",
       "      <td>0</td>\n",
       "      <td>0</td>\n",
       "      <td>93826.63</td>\n",
       "      <td>0</td>\n",
       "    </tr>\n",
       "    <tr>\n",
       "      <th>4</th>\n",
       "      <td>5</td>\n",
       "      <td>15737888</td>\n",
       "      <td>Mitchell</td>\n",
       "      <td>850</td>\n",
       "      <td>Spain</td>\n",
       "      <td>Female</td>\n",
       "      <td>43</td>\n",
       "      <td>2</td>\n",
       "      <td>125510.82</td>\n",
       "      <td>1</td>\n",
       "      <td>1</td>\n",
       "      <td>1</td>\n",
       "      <td>79084.10</td>\n",
       "      <td>0</td>\n",
       "    </tr>\n",
       "    <tr>\n",
       "      <th>...</th>\n",
       "      <td>...</td>\n",
       "      <td>...</td>\n",
       "      <td>...</td>\n",
       "      <td>...</td>\n",
       "      <td>...</td>\n",
       "      <td>...</td>\n",
       "      <td>...</td>\n",
       "      <td>...</td>\n",
       "      <td>...</td>\n",
       "      <td>...</td>\n",
       "      <td>...</td>\n",
       "      <td>...</td>\n",
       "      <td>...</td>\n",
       "      <td>...</td>\n",
       "    </tr>\n",
       "    <tr>\n",
       "      <th>9995</th>\n",
       "      <td>9996</td>\n",
       "      <td>15606229</td>\n",
       "      <td>Obijiaku</td>\n",
       "      <td>771</td>\n",
       "      <td>France</td>\n",
       "      <td>Male</td>\n",
       "      <td>39</td>\n",
       "      <td>5</td>\n",
       "      <td>0.00</td>\n",
       "      <td>2</td>\n",
       "      <td>1</td>\n",
       "      <td>0</td>\n",
       "      <td>96270.64</td>\n",
       "      <td>0</td>\n",
       "    </tr>\n",
       "    <tr>\n",
       "      <th>9996</th>\n",
       "      <td>9997</td>\n",
       "      <td>15569892</td>\n",
       "      <td>Johnstone</td>\n",
       "      <td>516</td>\n",
       "      <td>France</td>\n",
       "      <td>Male</td>\n",
       "      <td>35</td>\n",
       "      <td>10</td>\n",
       "      <td>57369.61</td>\n",
       "      <td>1</td>\n",
       "      <td>1</td>\n",
       "      <td>1</td>\n",
       "      <td>101699.77</td>\n",
       "      <td>0</td>\n",
       "    </tr>\n",
       "    <tr>\n",
       "      <th>9997</th>\n",
       "      <td>9998</td>\n",
       "      <td>15584532</td>\n",
       "      <td>Liu</td>\n",
       "      <td>709</td>\n",
       "      <td>France</td>\n",
       "      <td>Female</td>\n",
       "      <td>36</td>\n",
       "      <td>7</td>\n",
       "      <td>0.00</td>\n",
       "      <td>1</td>\n",
       "      <td>0</td>\n",
       "      <td>1</td>\n",
       "      <td>42085.58</td>\n",
       "      <td>1</td>\n",
       "    </tr>\n",
       "    <tr>\n",
       "      <th>9998</th>\n",
       "      <td>9999</td>\n",
       "      <td>15682355</td>\n",
       "      <td>Sabbatini</td>\n",
       "      <td>772</td>\n",
       "      <td>Germany</td>\n",
       "      <td>Male</td>\n",
       "      <td>42</td>\n",
       "      <td>3</td>\n",
       "      <td>75075.31</td>\n",
       "      <td>2</td>\n",
       "      <td>1</td>\n",
       "      <td>0</td>\n",
       "      <td>92888.52</td>\n",
       "      <td>1</td>\n",
       "    </tr>\n",
       "    <tr>\n",
       "      <th>9999</th>\n",
       "      <td>10000</td>\n",
       "      <td>15628319</td>\n",
       "      <td>Walker</td>\n",
       "      <td>792</td>\n",
       "      <td>France</td>\n",
       "      <td>Female</td>\n",
       "      <td>28</td>\n",
       "      <td>4</td>\n",
       "      <td>130142.79</td>\n",
       "      <td>1</td>\n",
       "      <td>1</td>\n",
       "      <td>0</td>\n",
       "      <td>38190.78</td>\n",
       "      <td>0</td>\n",
       "    </tr>\n",
       "  </tbody>\n",
       "</table>\n",
       "<p>10000 rows × 14 columns</p>\n",
       "</div>"
      ],
      "text/plain": [
       "      RowNumber  CustomerId    Surname  CreditScore Geography  Gender  Age  \\\n",
       "0             1    15634602   Hargrave          619    France  Female   42   \n",
       "1             2    15647311       Hill          608     Spain  Female   41   \n",
       "2             3    15619304       Onio          502    France  Female   42   \n",
       "3             4    15701354       Boni          699    France  Female   39   \n",
       "4             5    15737888   Mitchell          850     Spain  Female   43   \n",
       "...         ...         ...        ...          ...       ...     ...  ...   \n",
       "9995       9996    15606229   Obijiaku          771    France    Male   39   \n",
       "9996       9997    15569892  Johnstone          516    France    Male   35   \n",
       "9997       9998    15584532        Liu          709    France  Female   36   \n",
       "9998       9999    15682355  Sabbatini          772   Germany    Male   42   \n",
       "9999      10000    15628319     Walker          792    France  Female   28   \n",
       "\n",
       "      Tenure    Balance  NumOfProducts  HasCrCard  IsActiveMember  \\\n",
       "0          2       0.00              1          1               1   \n",
       "1          1   83807.86              1          0               1   \n",
       "2          8  159660.80              3          1               0   \n",
       "3          1       0.00              2          0               0   \n",
       "4          2  125510.82              1          1               1   \n",
       "...      ...        ...            ...        ...             ...   \n",
       "9995       5       0.00              2          1               0   \n",
       "9996      10   57369.61              1          1               1   \n",
       "9997       7       0.00              1          0               1   \n",
       "9998       3   75075.31              2          1               0   \n",
       "9999       4  130142.79              1          1               0   \n",
       "\n",
       "      EstimatedSalary  Exited  \n",
       "0           101348.88       1  \n",
       "1           112542.58       0  \n",
       "2           113931.57       1  \n",
       "3            93826.63       0  \n",
       "4            79084.10       0  \n",
       "...               ...     ...  \n",
       "9995         96270.64       0  \n",
       "9996        101699.77       0  \n",
       "9997         42085.58       1  \n",
       "9998         92888.52       1  \n",
       "9999         38190.78       0  \n",
       "\n",
       "[10000 rows x 14 columns]"
      ]
     },
     "execution_count": 61,
     "metadata": {},
     "output_type": "execute_result"
    }
   ],
   "source": [
    "data"
   ]
  },
  {
   "cell_type": "code",
   "execution_count": 62,
   "metadata": {},
   "outputs": [],
   "source": [
    "X = data.iloc[:,3:13].values\n",
    "y = data.iloc[:,-1].values"
   ]
  },
  {
   "cell_type": "code",
   "execution_count": 63,
   "metadata": {},
   "outputs": [
    {
     "data": {
      "text/plain": [
       "(array([[619, 'France', 'Female', ..., 1, 1, 101348.88],\n",
       "        [608, 'Spain', 'Female', ..., 0, 1, 112542.58],\n",
       "        [502, 'France', 'Female', ..., 1, 0, 113931.57],\n",
       "        ...,\n",
       "        [709, 'France', 'Female', ..., 0, 1, 42085.58],\n",
       "        [772, 'Germany', 'Male', ..., 1, 0, 92888.52],\n",
       "        [792, 'France', 'Female', ..., 1, 0, 38190.78]], dtype=object),\n",
       " array([1, 0, 1, ..., 1, 1, 0]))"
      ]
     },
     "execution_count": 63,
     "metadata": {},
     "output_type": "execute_result"
    }
   ],
   "source": [
    "X , y"
   ]
  },
  {
   "cell_type": "markdown",
   "metadata": {},
   "source": [
    "### Handle Categorical Data"
   ]
  },
  {
   "cell_type": "code",
   "execution_count": 64,
   "metadata": {},
   "outputs": [
    {
     "data": {
      "text/plain": [
       "array([619, 0, 0, 42, 2, 0.0, 1, 1, 1, 101348.88], dtype=object)"
      ]
     },
     "execution_count": 64,
     "metadata": {},
     "output_type": "execute_result"
    }
   ],
   "source": [
    "from sklearn.preprocessing import LabelEncoder, OneHotEncoder\n",
    "\n",
    "labelencoder_X_1 = LabelEncoder()\n",
    "X[:,1] = labelencoder_X_1.fit_transform(X[:,1])\n",
    "\n",
    "labelencoder_X_2 = LabelEncoder()\n",
    "X[:,2] = labelencoder_X_2.fit_transform(X[:,2])\n",
    "\n",
    "X[0]"
   ]
  },
  {
   "cell_type": "code",
   "execution_count": 65,
   "metadata": {},
   "outputs": [
    {
     "data": {
      "text/plain": [
       "array([1.0, 0.0, 0.0, 619, 0, 42, 2, 0.0, 1, 1, 1, 101348.88],\n",
       "      dtype=object)"
      ]
     },
     "execution_count": 65,
     "metadata": {},
     "output_type": "execute_result"
    }
   ],
   "source": [
    "from sklearn.compose import ColumnTransformer\n",
    "\n",
    "transformer = ColumnTransformer([(\"Onehot\",OneHotEncoder(),[1])],remainder = \"passthrough\")\n",
    "X = transformer.fit_transform(X)\n",
    "\n",
    "X[0]"
   ]
  },
  {
   "cell_type": "code",
   "execution_count": 66,
   "metadata": {},
   "outputs": [
    {
     "data": {
      "text/plain": [
       "array([1.0, 0.0, 0.0, 619, 0, 42, 2, 0.0, 1, 1, 1, 101348.88],\n",
       "      dtype=object)"
      ]
     },
     "execution_count": 66,
     "metadata": {},
     "output_type": "execute_result"
    }
   ],
   "source": [
    "X[0]"
   ]
  },
  {
   "cell_type": "code",
   "execution_count": 67,
   "metadata": {},
   "outputs": [],
   "source": [
    "X = X[:,1:]"
   ]
  },
  {
   "cell_type": "code",
   "execution_count": 68,
   "metadata": {},
   "outputs": [
    {
     "data": {
      "text/plain": [
       "array([0.0, 0.0, 619, 0, 42, 2, 0.0, 1, 1, 1, 101348.88], dtype=object)"
      ]
     },
     "execution_count": 68,
     "metadata": {},
     "output_type": "execute_result"
    }
   ],
   "source": [
    "X[0]"
   ]
  },
  {
   "cell_type": "code",
   "execution_count": 69,
   "metadata": {},
   "outputs": [
    {
     "data": {
      "text/plain": [
       "(10000, 11)"
      ]
     },
     "execution_count": 69,
     "metadata": {},
     "output_type": "execute_result"
    }
   ],
   "source": [
    "X.shape"
   ]
  },
  {
   "cell_type": "markdown",
   "metadata": {},
   "source": [
    "## Split the data "
   ]
  },
  {
   "cell_type": "code",
   "execution_count": 70,
   "metadata": {},
   "outputs": [],
   "source": [
    "from sklearn.model_selection import train_test_split\n",
    "X_train,X_test,y_train,y_test = train_test_split(X,y,test_size = 0.2,random_state=0)"
   ]
  },
  {
   "cell_type": "code",
   "execution_count": 71,
   "metadata": {},
   "outputs": [
    {
     "data": {
      "text/plain": [
       "(8000, 2000, 8000, 2000)"
      ]
     },
     "execution_count": 71,
     "metadata": {},
     "output_type": "execute_result"
    }
   ],
   "source": [
    "len(X_train) , len(X_test) , len(y_train) , len(y_test)"
   ]
  },
  {
   "cell_type": "code",
   "execution_count": 72,
   "metadata": {},
   "outputs": [
    {
     "data": {
      "text/plain": [
       "array([[0.0, 1.0, 667, ..., 1, 0, 163830.64],\n",
       "       [1.0, 0.0, 427, ..., 1, 1, 57098.0],\n",
       "       [0.0, 0.0, 535, ..., 1, 0, 185630.76],\n",
       "       ...,\n",
       "       [0.0, 0.0, 738, ..., 1, 0, 181429.87],\n",
       "       [0.0, 1.0, 590, ..., 1, 1, 148750.16],\n",
       "       [1.0, 0.0, 623, ..., 1, 0, 118855.26]], dtype=object)"
      ]
     },
     "execution_count": 72,
     "metadata": {},
     "output_type": "execute_result"
    }
   ],
   "source": [
    "X_train"
   ]
  },
  {
   "cell_type": "markdown",
   "metadata": {},
   "source": [
    "## Feature Scaling"
   ]
  },
  {
   "cell_type": "code",
   "execution_count": 73,
   "metadata": {},
   "outputs": [],
   "source": [
    "from sklearn.preprocessing import StandardScaler\n",
    "sc = StandardScaler()\n",
    "X_train = sc.fit_transform(X_train)\n",
    "X_test = sc.transform(X_test)"
   ]
  },
  {
   "cell_type": "markdown",
   "metadata": {},
   "source": [
    "# Artificial Neural Netwrok"
   ]
  },
  {
   "cell_type": "code",
   "execution_count": 74,
   "metadata": {},
   "outputs": [],
   "source": [
    "import keras\n",
    "from keras.models import Sequential\n",
    "from keras.layers import Dense"
   ]
  },
  {
   "cell_type": "markdown",
   "metadata": {},
   "source": [
    "### Initialising the ANN"
   ]
  },
  {
   "cell_type": "code",
   "execution_count": 81,
   "metadata": {},
   "outputs": [],
   "source": [
    "classifier = Sequential()\n",
    "\n",
    "# Add Input layer and first hidden layer\n",
    "classifier.add(Dense(6,activation='relu',kernel_initializer='glorot_uniform',input_dim=11))\n",
    "\n",
    "# Add second hidden layer\n",
    "classifier.add(Dense(6,activation='relu',kernel_initializer='glorot_uniform'))\n",
    "\n",
    "# Add the output Layer\n",
    "classifier.add(Dense(1,activation='sigmoid',kernel_initializer='glorot_uniform'))\n",
    "\n",
    "# Compile the ANN\n",
    "classifier.compile(optimizer = 'adam', loss = 'binary_crossentropy', metrics=['accuracy'])"
   ]
  },
  {
   "cell_type": "markdown",
   "metadata": {},
   "source": [
    "### Fit ANN to training set"
   ]
  },
  {
   "cell_type": "code",
   "execution_count": 82,
   "metadata": {},
   "outputs": [
    {
     "name": "stdout",
     "output_type": "stream",
     "text": [
      "Epoch 1/100\n",
      "800/800 [==============================] - 0s 582us/step - loss: 0.5428 - accuracy: 0.7648\n",
      "Epoch 2/100\n",
      "800/800 [==============================] - 0s 582us/step - loss: 0.4348 - accuracy: 0.7989\n",
      "Epoch 3/100\n",
      "800/800 [==============================] - 0s 610us/step - loss: 0.3962 - accuracy: 0.8125\n",
      "Epoch 4/100\n",
      "800/800 [==============================] - 0s 614us/step - loss: 0.3785 - accuracy: 0.8175\n",
      "Epoch 5/100\n",
      "800/800 [==============================] - 0s 558us/step - loss: 0.3680 - accuracy: 0.8211\n",
      "Epoch 6/100\n",
      "800/800 [==============================] - 0s 510us/step - loss: 0.3613 - accuracy: 0.8451\n",
      "Epoch 7/100\n",
      "800/800 [==============================] - 0s 456us/step - loss: 0.3563 - accuracy: 0.8544\n",
      "Epoch 8/100\n",
      "800/800 [==============================] - 0s 453us/step - loss: 0.3504 - accuracy: 0.8575\n",
      "Epoch 9/100\n",
      "800/800 [==============================] - 0s 446us/step - loss: 0.3463 - accuracy: 0.8574\n",
      "Epoch 10/100\n",
      "800/800 [==============================] - 0s 450us/step - loss: 0.3436 - accuracy: 0.8599\n",
      "Epoch 11/100\n",
      "800/800 [==============================] - 0s 454us/step - loss: 0.3422 - accuracy: 0.8609\n",
      "Epoch 12/100\n",
      "800/800 [==============================] - 0s 448us/step - loss: 0.3408 - accuracy: 0.8599\n",
      "Epoch 13/100\n",
      "800/800 [==============================] - 0s 446us/step - loss: 0.3393 - accuracy: 0.8611\n",
      "Epoch 14/100\n",
      "800/800 [==============================] - 0s 450us/step - loss: 0.3389 - accuracy: 0.8625\n",
      "Epoch 15/100\n",
      "800/800 [==============================] - 0s 449us/step - loss: 0.3376 - accuracy: 0.8610\n",
      "Epoch 16/100\n",
      "800/800 [==============================] - 0s 448us/step - loss: 0.3375 - accuracy: 0.8620\n",
      "Epoch 17/100\n",
      "800/800 [==============================] - 0s 449us/step - loss: 0.3370 - accuracy: 0.8627\n",
      "Epoch 18/100\n",
      "800/800 [==============================] - 0s 448us/step - loss: 0.3364 - accuracy: 0.8616\n",
      "Epoch 19/100\n",
      "800/800 [==============================] - 0s 471us/step - loss: 0.3359 - accuracy: 0.8644\n",
      "Epoch 20/100\n",
      "800/800 [==============================] - 0s 481us/step - loss: 0.3362 - accuracy: 0.8633\n",
      "Epoch 21/100\n",
      "800/800 [==============================] - 0s 476us/step - loss: 0.3356 - accuracy: 0.8639\n",
      "Epoch 22/100\n",
      "800/800 [==============================] - 0s 485us/step - loss: 0.3354 - accuracy: 0.8630\n",
      "Epoch 23/100\n",
      "800/800 [==============================] - 0s 481us/step - loss: 0.3350 - accuracy: 0.8626\n",
      "Epoch 24/100\n",
      "800/800 [==============================] - 0s 462us/step - loss: 0.3350 - accuracy: 0.8635\n",
      "Epoch 25/100\n",
      "800/800 [==============================] - 0s 487us/step - loss: 0.3346 - accuracy: 0.8639\n",
      "Epoch 26/100\n",
      "800/800 [==============================] - 0s 490us/step - loss: 0.3343 - accuracy: 0.8660\n",
      "Epoch 27/100\n",
      "800/800 [==============================] - 0s 598us/step - loss: 0.3347 - accuracy: 0.8630\n",
      "Epoch 28/100\n",
      "800/800 [==============================] - 1s 720us/step - loss: 0.3345 - accuracy: 0.8643\n",
      "Epoch 29/100\n",
      "800/800 [==============================] - 1s 784us/step - loss: 0.3342 - accuracy: 0.8640\n",
      "Epoch 30/100\n",
      "800/800 [==============================] - 1s 771us/step - loss: 0.3345 - accuracy: 0.86500s - loss: 0.3367 - accuracy\n",
      "Epoch 31/100\n",
      "800/800 [==============================] - 1s 762us/step - loss: 0.3339 - accuracy: 0.8654\n",
      "Epoch 32/100\n",
      "800/800 [==============================] - 0s 581us/step - loss: 0.3339 - accuracy: 0.8627\n",
      "Epoch 33/100\n",
      "800/800 [==============================] - 0s 515us/step - loss: 0.3338 - accuracy: 0.8640\n",
      "Epoch 34/100\n",
      "800/800 [==============================] - 0s 508us/step - loss: 0.3337 - accuracy: 0.8634\n",
      "Epoch 35/100\n",
      "800/800 [==============================] - 0s 505us/step - loss: 0.3333 - accuracy: 0.8639\n",
      "Epoch 36/100\n",
      "800/800 [==============================] - 0s 511us/step - loss: 0.3330 - accuracy: 0.8652\n",
      "Epoch 37/100\n",
      "800/800 [==============================] - 0s 478us/step - loss: 0.3333 - accuracy: 0.8631\n",
      "Epoch 38/100\n",
      "800/800 [==============================] - 0s 472us/step - loss: 0.3331 - accuracy: 0.8645\n",
      "Epoch 39/100\n",
      "800/800 [==============================] - 0s 515us/step - loss: 0.3330 - accuracy: 0.8649\n",
      "Epoch 40/100\n",
      "800/800 [==============================] - 0s 492us/step - loss: 0.3330 - accuracy: 0.8634\n",
      "Epoch 41/100\n",
      "800/800 [==============================] - 0s 500us/step - loss: 0.3328 - accuracy: 0.8648\n",
      "Epoch 42/100\n",
      "800/800 [==============================] - 0s 528us/step - loss: 0.3330 - accuracy: 0.8641\n",
      "Epoch 43/100\n",
      "800/800 [==============================] - 0s 537us/step - loss: 0.3325 - accuracy: 0.8644\n",
      "Epoch 44/100\n",
      "800/800 [==============================] - 0s 495us/step - loss: 0.3322 - accuracy: 0.8654\n",
      "Epoch 45/100\n",
      "800/800 [==============================] - 0s 527us/step - loss: 0.3323 - accuracy: 0.8645\n",
      "Epoch 46/100\n",
      "800/800 [==============================] - 0s 524us/step - loss: 0.3320 - accuracy: 0.8648\n",
      "Epoch 47/100\n",
      "800/800 [==============================] - 0s 540us/step - loss: 0.3317 - accuracy: 0.8651\n",
      "Epoch 48/100\n",
      "800/800 [==============================] - 0s 536us/step - loss: 0.3321 - accuracy: 0.8635\n",
      "Epoch 49/100\n",
      "800/800 [==============================] - 1s 663us/step - loss: 0.3318 - accuracy: 0.8654\n",
      "Epoch 50/100\n",
      "800/800 [==============================] - 1s 719us/step - loss: 0.3320 - accuracy: 0.8660\n",
      "Epoch 51/100\n",
      "800/800 [==============================] - 1s 753us/step - loss: 0.3317 - accuracy: 0.8635\n",
      "Epoch 52/100\n",
      "800/800 [==============================] - 1s 741us/step - loss: 0.3321 - accuracy: 0.8627\n",
      "Epoch 53/100\n",
      "800/800 [==============================] - 1s 743us/step - loss: 0.3318 - accuracy: 0.8645\n",
      "Epoch 54/100\n",
      "800/800 [==============================] - 0s 605us/step - loss: 0.3322 - accuracy: 0.8639\n",
      "Epoch 55/100\n",
      "800/800 [==============================] - 0s 613us/step - loss: 0.3315 - accuracy: 0.8637\n",
      "Epoch 56/100\n",
      "800/800 [==============================] - 0s 609us/step - loss: 0.3315 - accuracy: 0.8622\n",
      "Epoch 57/100\n",
      "800/800 [==============================] - 0s 599us/step - loss: 0.3316 - accuracy: 0.8650\n",
      "Epoch 58/100\n",
      "800/800 [==============================] - 0s 515us/step - loss: 0.3313 - accuracy: 0.8633\n",
      "Epoch 59/100\n",
      "800/800 [==============================] - 0s 542us/step - loss: 0.3312 - accuracy: 0.8622\n",
      "Epoch 60/100\n",
      "800/800 [==============================] - 0s 550us/step - loss: 0.3310 - accuracy: 0.8664\n",
      "Epoch 61/100\n",
      "800/800 [==============================] - 0s 546us/step - loss: 0.3311 - accuracy: 0.8662\n",
      "Epoch 62/100\n",
      "800/800 [==============================] - 0s 543us/step - loss: 0.3308 - accuracy: 0.8644\n",
      "Epoch 63/100\n",
      "800/800 [==============================] - 0s 535us/step - loss: 0.3306 - accuracy: 0.8637\n",
      "Epoch 64/100\n",
      "800/800 [==============================] - 0s 497us/step - loss: 0.3308 - accuracy: 0.8643\n",
      "Epoch 65/100\n",
      "800/800 [==============================] - 0s 553us/step - loss: 0.3307 - accuracy: 0.8646\n",
      "Epoch 66/100\n",
      "800/800 [==============================] - 0s 591us/step - loss: 0.3303 - accuracy: 0.8635\n",
      "Epoch 67/100\n",
      "800/800 [==============================] - 1s 628us/step - loss: 0.3302 - accuracy: 0.8630\n",
      "Epoch 68/100\n",
      "800/800 [==============================] - 0s 579us/step - loss: 0.3302 - accuracy: 0.8649\n",
      "Epoch 69/100\n",
      "800/800 [==============================] - 1s 635us/step - loss: 0.3299 - accuracy: 0.8654\n",
      "Epoch 70/100\n",
      "800/800 [==============================] - 1s 744us/step - loss: 0.3300 - accuracy: 0.8662\n",
      "Epoch 71/100\n",
      "800/800 [==============================] - 1s 857us/step - loss: 0.3299 - accuracy: 0.8644\n",
      "Epoch 72/100\n",
      "800/800 [==============================] - 1s 796us/step - loss: 0.3298 - accuracy: 0.8645\n",
      "Epoch 73/100\n",
      "800/800 [==============================] - 1s 745us/step - loss: 0.3297 - accuracy: 0.8664\n",
      "Epoch 74/100\n",
      "800/800 [==============================] - 1s 810us/step - loss: 0.3292 - accuracy: 0.8656\n",
      "Epoch 75/100\n",
      "800/800 [==============================] - 1s 675us/step - loss: 0.3295 - accuracy: 0.8633\n",
      "Epoch 76/100\n",
      "800/800 [==============================] - 1s 634us/step - loss: 0.3298 - accuracy: 0.8645\n",
      "Epoch 77/100\n",
      "800/800 [==============================] - 1s 626us/step - loss: 0.3294 - accuracy: 0.8656\n",
      "Epoch 78/100\n",
      "800/800 [==============================] - 0s 568us/step - loss: 0.3291 - accuracy: 0.8655\n",
      "Epoch 79/100\n"
     ]
    },
    {
     "name": "stdout",
     "output_type": "stream",
     "text": [
      "800/800 [==============================] - 0s 576us/step - loss: 0.3296 - accuracy: 0.8662\n",
      "Epoch 80/100\n",
      "800/800 [==============================] - 0s 512us/step - loss: 0.3295 - accuracy: 0.8655\n",
      "Epoch 81/100\n",
      "800/800 [==============================] - 0s 571us/step - loss: 0.3295 - accuracy: 0.8668\n",
      "Epoch 82/100\n",
      "800/800 [==============================] - 0s 537us/step - loss: 0.3295 - accuracy: 0.8660\n",
      "Epoch 83/100\n",
      "800/800 [==============================] - 0s 541us/step - loss: 0.3293 - accuracy: 0.8660\n",
      "Epoch 84/100\n",
      "800/800 [==============================] - 0s 593us/step - loss: 0.3289 - accuracy: 0.8673\n",
      "Epoch 85/100\n",
      "800/800 [==============================] - 0s 545us/step - loss: 0.3287 - accuracy: 0.8650\n",
      "Epoch 86/100\n",
      "800/800 [==============================] - 0s 538us/step - loss: 0.3294 - accuracy: 0.8655\n",
      "Epoch 87/100\n",
      "800/800 [==============================] - 0s 559us/step - loss: 0.3289 - accuracy: 0.8666\n",
      "Epoch 88/100\n",
      "800/800 [==============================] - 0s 568us/step - loss: 0.3289 - accuracy: 0.8668\n",
      "Epoch 89/100\n",
      "800/800 [==============================] - 0s 624us/step - loss: 0.3289 - accuracy: 0.8649\n",
      "Epoch 90/100\n",
      "800/800 [==============================] - 1s 802us/step - loss: 0.3289 - accuracy: 0.8660\n",
      "Epoch 91/100\n",
      "800/800 [==============================] - 1s 800us/step - loss: 0.3285 - accuracy: 0.8660\n",
      "Epoch 92/100\n",
      "800/800 [==============================] - 1s 853us/step - loss: 0.3290 - accuracy: 0.8649\n",
      "Epoch 93/100\n",
      "800/800 [==============================] - 1s 843us/step - loss: 0.3288 - accuracy: 0.8644\n",
      "Epoch 94/100\n",
      "800/800 [==============================] - 1s 853us/step - loss: 0.3291 - accuracy: 0.8654\n",
      "Epoch 95/100\n",
      "800/800 [==============================] - 1s 643us/step - loss: 0.3290 - accuracy: 0.8652\n",
      "Epoch 96/100\n",
      "800/800 [==============================] - 1s 668us/step - loss: 0.3287 - accuracy: 0.8655\n",
      "Epoch 97/100\n",
      "800/800 [==============================] - 0s 597us/step - loss: 0.3290 - accuracy: 0.8659\n",
      "Epoch 98/100\n",
      "800/800 [==============================] - 0s 613us/step - loss: 0.3288 - accuracy: 0.8648\n",
      "Epoch 99/100\n",
      "800/800 [==============================] - 0s 559us/step - loss: 0.3285 - accuracy: 0.8652\n",
      "Epoch 100/100\n",
      "800/800 [==============================] - 0s 615us/step - loss: 0.3286 - accuracy: 0.8640\n"
     ]
    },
    {
     "data": {
      "text/plain": [
       "<tensorflow.python.keras.callbacks.History at 0x7fa946f28040>"
      ]
     },
     "execution_count": 82,
     "metadata": {},
     "output_type": "execute_result"
    }
   ],
   "source": [
    "classifier.fit(X_train, y_train, batch_size = 10, epochs = 100)"
   ]
  },
  {
   "cell_type": "code",
   "execution_count": 84,
   "metadata": {},
   "outputs": [
    {
     "name": "stdout",
     "output_type": "stream",
     "text": [
      "Epoch 1/100\n",
      "250/250 [==============================] - 0s 754us/step - loss: 0.3264 - accuracy: 0.8659\n",
      "Epoch 2/100\n",
      "250/250 [==============================] - 0s 718us/step - loss: 0.3265 - accuracy: 0.8661\n",
      "Epoch 3/100\n",
      "250/250 [==============================] - 0s 715us/step - loss: 0.3265 - accuracy: 0.8668\n",
      "Epoch 4/100\n",
      "250/250 [==============================] - 0s 707us/step - loss: 0.3269 - accuracy: 0.8666\n",
      "Epoch 5/100\n",
      "250/250 [==============================] - 0s 718us/step - loss: 0.3268 - accuracy: 0.8671\n",
      "Epoch 6/100\n",
      "250/250 [==============================] - 0s 707us/step - loss: 0.3267 - accuracy: 0.8664\n",
      "Epoch 7/100\n",
      "250/250 [==============================] - 0s 708us/step - loss: 0.3269 - accuracy: 0.8654\n",
      "Epoch 8/100\n",
      "250/250 [==============================] - 0s 699us/step - loss: 0.3269 - accuracy: 0.8665\n",
      "Epoch 9/100\n",
      "250/250 [==============================] - 0s 743us/step - loss: 0.3269 - accuracy: 0.8668\n",
      "Epoch 10/100\n",
      "250/250 [==============================] - 0s 740us/step - loss: 0.3269 - accuracy: 0.8664\n",
      "Epoch 11/100\n",
      "250/250 [==============================] - 0s 677us/step - loss: 0.3269 - accuracy: 0.8669\n",
      "Epoch 12/100\n",
      "250/250 [==============================] - 0s 743us/step - loss: 0.3270 - accuracy: 0.8661\n",
      "Epoch 13/100\n",
      "250/250 [==============================] - 0s 741us/step - loss: 0.3270 - accuracy: 0.8660\n",
      "Epoch 14/100\n",
      "250/250 [==============================] - 0s 735us/step - loss: 0.3270 - accuracy: 0.8660\n",
      "Epoch 15/100\n",
      "250/250 [==============================] - 0s 723us/step - loss: 0.3268 - accuracy: 0.8665\n",
      "Epoch 16/100\n",
      "250/250 [==============================] - 0s 677us/step - loss: 0.3270 - accuracy: 0.8658\n",
      "Epoch 17/100\n",
      "250/250 [==============================] - 0s 669us/step - loss: 0.3268 - accuracy: 0.8685\n",
      "Epoch 18/100\n",
      "250/250 [==============================] - 0s 670us/step - loss: 0.3269 - accuracy: 0.8648\n",
      "Epoch 19/100\n",
      "250/250 [==============================] - 0s 683us/step - loss: 0.3270 - accuracy: 0.8660\n",
      "Epoch 20/100\n",
      "250/250 [==============================] - 0s 684us/step - loss: 0.3269 - accuracy: 0.8665\n",
      "Epoch 21/100\n",
      "250/250 [==============================] - 0s 746us/step - loss: 0.3268 - accuracy: 0.8665\n",
      "Epoch 22/100\n",
      "250/250 [==============================] - 0s 728us/step - loss: 0.3271 - accuracy: 0.8673\n",
      "Epoch 23/100\n",
      "250/250 [==============================] - 0s 725us/step - loss: 0.3270 - accuracy: 0.8669\n",
      "Epoch 24/100\n",
      "250/250 [==============================] - 0s 725us/step - loss: 0.3270 - accuracy: 0.8661\n",
      "Epoch 25/100\n",
      "250/250 [==============================] - 0s 691us/step - loss: 0.3270 - accuracy: 0.8675\n",
      "Epoch 26/100\n",
      "250/250 [==============================] - 0s 665us/step - loss: 0.3267 - accuracy: 0.8659\n",
      "Epoch 27/100\n",
      "250/250 [==============================] - 0s 663us/step - loss: 0.3273 - accuracy: 0.8665\n",
      "Epoch 28/100\n",
      "250/250 [==============================] - 0s 681us/step - loss: 0.3269 - accuracy: 0.8664\n",
      "Epoch 29/100\n",
      "250/250 [==============================] - 0s 704us/step - loss: 0.3270 - accuracy: 0.8669\n",
      "Epoch 30/100\n",
      "250/250 [==============================] - 0s 912us/step - loss: 0.3270 - accuracy: 0.8655\n",
      "Epoch 31/100\n",
      "250/250 [==============================] - 0s 928us/step - loss: 0.3269 - accuracy: 0.8670\n",
      "Epoch 32/100\n",
      "250/250 [==============================] - 0s 912us/step - loss: 0.3267 - accuracy: 0.8676\n",
      "Epoch 33/100\n",
      "250/250 [==============================] - 0s 924us/step - loss: 0.3268 - accuracy: 0.8666\n",
      "Epoch 34/100\n",
      "250/250 [==============================] - 0s 929us/step - loss: 0.3268 - accuracy: 0.8662\n",
      "Epoch 35/100\n",
      "250/250 [==============================] - 0s 935us/step - loss: 0.3270 - accuracy: 0.8666\n",
      "Epoch 36/100\n",
      "250/250 [==============================] - 0s 919us/step - loss: 0.3268 - accuracy: 0.8659\n",
      "Epoch 37/100\n",
      "250/250 [==============================] - 0s 930us/step - loss: 0.3267 - accuracy: 0.8669\n",
      "Epoch 38/100\n",
      "250/250 [==============================] - 0s 942us/step - loss: 0.3268 - accuracy: 0.8666\n",
      "Epoch 39/100\n",
      "250/250 [==============================] - 0s 927us/step - loss: 0.3268 - accuracy: 0.8681\n",
      "Epoch 40/100\n",
      "250/250 [==============================] - 0s 706us/step - loss: 0.3271 - accuracy: 0.8666\n",
      "Epoch 41/100\n",
      "250/250 [==============================] - 0s 669us/step - loss: 0.3266 - accuracy: 0.8669\n",
      "Epoch 42/100\n",
      "250/250 [==============================] - 0s 724us/step - loss: 0.3269 - accuracy: 0.8656\n",
      "Epoch 43/100\n",
      "250/250 [==============================] - 0s 733us/step - loss: 0.3267 - accuracy: 0.8671\n",
      "Epoch 44/100\n",
      "250/250 [==============================] - 0s 729us/step - loss: 0.3266 - accuracy: 0.8679\n",
      "Epoch 45/100\n",
      "250/250 [==============================] - 0s 725us/step - loss: 0.3270 - accuracy: 0.8673\n",
      "Epoch 46/100\n",
      "250/250 [==============================] - 0s 680us/step - loss: 0.3268 - accuracy: 0.8665\n",
      "Epoch 47/100\n",
      "250/250 [==============================] - 0s 735us/step - loss: 0.3271 - accuracy: 0.8677\n",
      "Epoch 48/100\n",
      "250/250 [==============================] - 0s 730us/step - loss: 0.3267 - accuracy: 0.8665\n",
      "Epoch 49/100\n",
      "250/250 [==============================] - 0s 734us/step - loss: 0.3270 - accuracy: 0.8666\n",
      "Epoch 50/100\n",
      "250/250 [==============================] - 0s 726us/step - loss: 0.3267 - accuracy: 0.8659\n",
      "Epoch 51/100\n",
      "250/250 [==============================] - 0s 698us/step - loss: 0.3268 - accuracy: 0.8665\n",
      "Epoch 52/100\n",
      "250/250 [==============================] - 0s 740us/step - loss: 0.3269 - accuracy: 0.8659\n",
      "Epoch 53/100\n",
      "250/250 [==============================] - 0s 765us/step - loss: 0.3267 - accuracy: 0.8666\n",
      "Epoch 54/100\n",
      "250/250 [==============================] - 0s 727us/step - loss: 0.3267 - accuracy: 0.8660\n",
      "Epoch 55/100\n",
      "250/250 [==============================] - 0s 695us/step - loss: 0.3266 - accuracy: 0.8661\n",
      "Epoch 56/100\n",
      "250/250 [==============================] - 0s 672us/step - loss: 0.3269 - accuracy: 0.8669\n",
      "Epoch 57/100\n",
      "250/250 [==============================] - 0s 663us/step - loss: 0.3268 - accuracy: 0.8670\n",
      "Epoch 58/100\n",
      "250/250 [==============================] - 0s 684us/step - loss: 0.3264 - accuracy: 0.8671\n",
      "Epoch 59/100\n",
      "250/250 [==============================] - 0s 732us/step - loss: 0.3269 - accuracy: 0.8665\n",
      "Epoch 60/100\n",
      "250/250 [==============================] - 0s 760us/step - loss: 0.3267 - accuracy: 0.8660\n",
      "Epoch 61/100\n",
      "250/250 [==============================] - 0s 718us/step - loss: 0.3265 - accuracy: 0.8656\n",
      "Epoch 62/100\n",
      "250/250 [==============================] - 0s 758us/step - loss: 0.3271 - accuracy: 0.8655\n",
      "Epoch 63/100\n",
      "250/250 [==============================] - 0s 756us/step - loss: 0.3267 - accuracy: 0.8656\n",
      "Epoch 64/100\n",
      "250/250 [==============================] - 0s 706us/step - loss: 0.3266 - accuracy: 0.8658\n",
      "Epoch 65/100\n",
      "250/250 [==============================] - 0s 697us/step - loss: 0.3268 - accuracy: 0.8660\n",
      "Epoch 66/100\n",
      "250/250 [==============================] - 0s 715us/step - loss: 0.3267 - accuracy: 0.8660\n",
      "Epoch 67/100\n",
      "250/250 [==============================] - 0s 719us/step - loss: 0.3266 - accuracy: 0.8675\n",
      "Epoch 68/100\n",
      "250/250 [==============================] - 0s 739us/step - loss: 0.3268 - accuracy: 0.8676\n",
      "Epoch 69/100\n",
      "250/250 [==============================] - 0s 745us/step - loss: 0.3267 - accuracy: 0.8670\n",
      "Epoch 70/100\n",
      "250/250 [==============================] - 0s 735us/step - loss: 0.3265 - accuracy: 0.8671\n",
      "Epoch 71/100\n",
      "250/250 [==============================] - 0s 724us/step - loss: 0.3268 - accuracy: 0.8669\n",
      "Epoch 72/100\n",
      "250/250 [==============================] - 0s 732us/step - loss: 0.3266 - accuracy: 0.8673\n",
      "Epoch 73/100\n",
      "250/250 [==============================] - 0s 730us/step - loss: 0.3265 - accuracy: 0.8669\n",
      "Epoch 74/100\n",
      "250/250 [==============================] - 0s 730us/step - loss: 0.3271 - accuracy: 0.8662\n",
      "Epoch 75/100\n",
      "250/250 [==============================] - 0s 700us/step - loss: 0.3265 - accuracy: 0.8679\n",
      "Epoch 76/100\n",
      "250/250 [==============================] - 0s 732us/step - loss: 0.3266 - accuracy: 0.8671\n",
      "Epoch 77/100\n",
      "250/250 [==============================] - 0s 730us/step - loss: 0.3264 - accuracy: 0.8666\n",
      "Epoch 78/100\n",
      "250/250 [==============================] - 0s 732us/step - loss: 0.3266 - accuracy: 0.8660\n",
      "Epoch 79/100\n"
     ]
    },
    {
     "name": "stdout",
     "output_type": "stream",
     "text": [
      "250/250 [==============================] - 0s 733us/step - loss: 0.3268 - accuracy: 0.8675\n",
      "Epoch 80/100\n",
      "250/250 [==============================] - 0s 729us/step - loss: 0.3265 - accuracy: 0.8662\n",
      "Epoch 81/100\n",
      "250/250 [==============================] - 0s 735us/step - loss: 0.3265 - accuracy: 0.8679\n",
      "Epoch 82/100\n",
      "250/250 [==============================] - 0s 741us/step - loss: 0.3269 - accuracy: 0.8676\n",
      "Epoch 83/100\n",
      "250/250 [==============================] - 0s 790us/step - loss: 0.3268 - accuracy: 0.8676\n",
      "Epoch 84/100\n",
      "250/250 [==============================] - 0s 916us/step - loss: 0.3263 - accuracy: 0.8675\n",
      "Epoch 85/100\n",
      "250/250 [==============================] - 0s 926us/step - loss: 0.3267 - accuracy: 0.8674\n",
      "Epoch 86/100\n",
      "250/250 [==============================] - 0s 933us/step - loss: 0.3268 - accuracy: 0.8656\n",
      "Epoch 87/100\n",
      "250/250 [==============================] - 0s 907us/step - loss: 0.3267 - accuracy: 0.8671\n",
      "Epoch 88/100\n",
      "250/250 [==============================] - 0s 940us/step - loss: 0.3263 - accuracy: 0.8660\n",
      "Epoch 89/100\n",
      "250/250 [==============================] - 0s 985us/step - loss: 0.3264 - accuracy: 0.8677\n",
      "Epoch 90/100\n",
      "250/250 [==============================] - 0s 1ms/step - loss: 0.3265 - accuracy: 0.8669\n",
      "Epoch 91/100\n",
      "250/250 [==============================] - 0s 1ms/step - loss: 0.3262 - accuracy: 0.8670\n",
      "Epoch 92/100\n",
      "250/250 [==============================] - 0s 1ms/step - loss: 0.3265 - accuracy: 0.8664\n",
      "Epoch 93/100\n",
      "250/250 [==============================] - 0s 1ms/step - loss: 0.3263 - accuracy: 0.8665\n",
      "Epoch 94/100\n",
      "250/250 [==============================] - 0s 1ms/step - loss: 0.3264 - accuracy: 0.8674\n",
      "Epoch 95/100\n",
      "250/250 [==============================] - 0s 1ms/step - loss: 0.3264 - accuracy: 0.8666\n",
      "Epoch 96/100\n",
      "250/250 [==============================] - 0s 1ms/step - loss: 0.3264 - accuracy: 0.8660\n",
      "Epoch 97/100\n",
      "250/250 [==============================] - 0s 1ms/step - loss: 0.3264 - accuracy: 0.8654\n",
      "Epoch 98/100\n",
      "250/250 [==============================] - 0s 1ms/step - loss: 0.3265 - accuracy: 0.8668\n",
      "Epoch 99/100\n",
      "250/250 [==============================] - 0s 943us/step - loss: 0.3264 - accuracy: 0.8661\n",
      "Epoch 100/100\n",
      "250/250 [==============================] - 0s 1ms/step - loss: 0.3263 - accuracy: 0.8665\n"
     ]
    },
    {
     "data": {
      "text/plain": [
       "<tensorflow.python.keras.callbacks.History at 0x7fa94808a610>"
      ]
     },
     "execution_count": 84,
     "metadata": {},
     "output_type": "execute_result"
    }
   ],
   "source": [
    "classifier.fit(X_train,y_train, epochs=100)"
   ]
  },
  {
   "cell_type": "markdown",
   "metadata": {},
   "source": [
    "## Make Prediction "
   ]
  },
  {
   "cell_type": "code",
   "execution_count": 85,
   "metadata": {},
   "outputs": [],
   "source": [
    "# Predicts the probabilities\n",
    "y_pred = classifier.predict(X_test)"
   ]
  },
  {
   "cell_type": "code",
   "execution_count": 86,
   "metadata": {},
   "outputs": [
    {
     "data": {
      "text/plain": [
       "array([[0.27739292],\n",
       "       [0.3606457 ],\n",
       "       [0.16686839],\n",
       "       ...,\n",
       "       [0.13296014],\n",
       "       [0.19825208],\n",
       "       [0.21412018]], dtype=float32)"
      ]
     },
     "execution_count": 86,
     "metadata": {},
     "output_type": "execute_result"
    }
   ],
   "source": [
    "y_pred"
   ]
  },
  {
   "cell_type": "code",
   "execution_count": 87,
   "metadata": {},
   "outputs": [],
   "source": [
    "# Predict the test results \n",
    "y_pred = classifier.predict(X_test)\n",
    "y_pred = (y_pred > 0.5)"
   ]
  },
  {
   "cell_type": "code",
   "execution_count": 88,
   "metadata": {},
   "outputs": [
    {
     "data": {
      "text/plain": [
       "array([[False],\n",
       "       [False],\n",
       "       [False],\n",
       "       ...,\n",
       "       [False],\n",
       "       [False],\n",
       "       [False]])"
      ]
     },
     "execution_count": 88,
     "metadata": {},
     "output_type": "execute_result"
    }
   ],
   "source": [
    "y_pred"
   ]
  },
  {
   "cell_type": "code",
   "execution_count": 91,
   "metadata": {},
   "outputs": [],
   "source": [
    "from sklearn.metrics import confusion_matrix, accuracy_score\n",
    "cm = confusion_matrix(y_test, y_pred)"
   ]
  },
  {
   "cell_type": "code",
   "execution_count": 90,
   "metadata": {},
   "outputs": [
    {
     "data": {
      "text/plain": [
       "array([[1499,   96],\n",
       "       [ 184,  221]])"
      ]
     },
     "execution_count": 90,
     "metadata": {},
     "output_type": "execute_result"
    }
   ],
   "source": [
    "cm"
   ]
  },
  {
   "cell_type": "code",
   "execution_count": 92,
   "metadata": {},
   "outputs": [],
   "source": [
    "acc = accuracy_score(y_test,y_pred)"
   ]
  },
  {
   "cell_type": "code",
   "execution_count": 93,
   "metadata": {},
   "outputs": [
    {
     "data": {
      "text/plain": [
       "0.86"
      ]
     },
     "execution_count": 93,
     "metadata": {},
     "output_type": "execute_result"
    }
   ],
   "source": [
    "acc"
   ]
  },
  {
   "cell_type": "code",
   "execution_count": 94,
   "metadata": {},
   "outputs": [
    {
     "data": {
      "text/plain": [
       "0.86"
      ]
     },
     "execution_count": 94,
     "metadata": {},
     "output_type": "execute_result"
    }
   ],
   "source": [
    "(1499+221)/(2000)"
   ]
  },
  {
   "cell_type": "code",
   "execution_count": null,
   "metadata": {},
   "outputs": [],
   "source": []
  },
  {
   "cell_type": "code",
   "execution_count": null,
   "metadata": {},
   "outputs": [],
   "source": []
  },
  {
   "cell_type": "code",
   "execution_count": null,
   "metadata": {},
   "outputs": [],
   "source": []
  },
  {
   "cell_type": "code",
   "execution_count": null,
   "metadata": {},
   "outputs": [],
   "source": []
  },
  {
   "cell_type": "code",
   "execution_count": null,
   "metadata": {},
   "outputs": [],
   "source": []
  },
  {
   "cell_type": "code",
   "execution_count": null,
   "metadata": {},
   "outputs": [],
   "source": []
  },
  {
   "cell_type": "code",
   "execution_count": null,
   "metadata": {},
   "outputs": [],
   "source": []
  },
  {
   "cell_type": "code",
   "execution_count": null,
   "metadata": {},
   "outputs": [],
   "source": []
  },
  {
   "cell_type": "code",
   "execution_count": null,
   "metadata": {},
   "outputs": [],
   "source": []
  },
  {
   "cell_type": "code",
   "execution_count": null,
   "metadata": {},
   "outputs": [],
   "source": []
  },
  {
   "cell_type": "code",
   "execution_count": null,
   "metadata": {},
   "outputs": [],
   "source": []
  },
  {
   "cell_type": "code",
   "execution_count": null,
   "metadata": {},
   "outputs": [],
   "source": []
  },
  {
   "cell_type": "code",
   "execution_count": null,
   "metadata": {},
   "outputs": [],
   "source": []
  },
  {
   "cell_type": "code",
   "execution_count": null,
   "metadata": {},
   "outputs": [],
   "source": []
  },
  {
   "cell_type": "code",
   "execution_count": null,
   "metadata": {},
   "outputs": [],
   "source": []
  },
  {
   "cell_type": "code",
   "execution_count": null,
   "metadata": {},
   "outputs": [],
   "source": []
  },
  {
   "cell_type": "code",
   "execution_count": null,
   "metadata": {},
   "outputs": [],
   "source": []
  },
  {
   "cell_type": "code",
   "execution_count": null,
   "metadata": {},
   "outputs": [],
   "source": []
  },
  {
   "cell_type": "code",
   "execution_count": null,
   "metadata": {},
   "outputs": [],
   "source": []
  },
  {
   "cell_type": "code",
   "execution_count": null,
   "metadata": {},
   "outputs": [],
   "source": []
  },
  {
   "cell_type": "code",
   "execution_count": null,
   "metadata": {},
   "outputs": [],
   "source": []
  },
  {
   "cell_type": "code",
   "execution_count": null,
   "metadata": {},
   "outputs": [],
   "source": []
  },
  {
   "cell_type": "code",
   "execution_count": null,
   "metadata": {},
   "outputs": [],
   "source": []
  }
 ],
 "metadata": {
  "kernelspec": {
   "display_name": "Python 3",
   "language": "python",
   "name": "python3"
  },
  "language_info": {
   "codemirror_mode": {
    "name": "ipython",
    "version": 3
   },
   "file_extension": ".py",
   "mimetype": "text/x-python",
   "name": "python",
   "nbconvert_exporter": "python",
   "pygments_lexer": "ipython3",
   "version": "3.8.5"
  }
 },
 "nbformat": 4,
 "nbformat_minor": 4
}
